{
  "nbformat": 4,
  "nbformat_minor": 0,
  "metadata": {
    "colab": {
      "name": "Question and Answer Chat Bots.ipynb",
      "provenance": [],
      "authorship_tag": "ABX9TyMzX7n6KpkBgTf73rZ7IG6/",
      "include_colab_link": true
    },
    "kernelspec": {
      "name": "python3",
      "display_name": "Python 3"
    },
    "language_info": {
      "name": "python"
    },
    "accelerator": "GPU"
  },
  "cells": [
    {
      "cell_type": "markdown",
      "metadata": {
        "id": "view-in-github",
        "colab_type": "text"
      },
      "source": [
        "<a href=\"https://colab.research.google.com/github/raushan9jnv/Question-and-Answer-Chat-Bots--InternshipProject/blob/main/Question_and_Answer_Chat_Bots.ipynb\" target=\"_parent\"><img src=\"https://colab.research.google.com/assets/colab-badge.svg\" alt=\"Open In Colab\"/></a>"
      ]
    },
    {
      "cell_type": "code",
      "execution_count": 4,
      "metadata": {
        "id": "vZxoEmz0_eIL"
      },
      "outputs": [],
      "source": [
        "import pickle\n",
        "import numpy as np"
      ]
    },
    {
      "cell_type": "code",
      "source": [
        "with open(\"/content/train_qa-220120-145526.txt\", \"rb\") as fp:   # Unpickling\n",
        "    train_data =  pickle.load(fp)"
      ],
      "metadata": {
        "id": "RNnr4igyAUnJ"
      },
      "execution_count": 5,
      "outputs": []
    },
    {
      "cell_type": "code",
      "source": [
        "with open(\"/content/test_qa-220120-145430.txt\", \"rb\") as fp:   # Unpickling\n",
        "    test_data =  pickle.load(fp)"
      ],
      "metadata": {
        "id": "W0Hf6KuKAUky"
      },
      "execution_count": 6,
      "outputs": []
    },
    {
      "cell_type": "markdown",
      "source": [
        "## Exploring the Format of the Data"
      ],
      "metadata": {
        "id": "wpwCdD0kAjqt"
      }
    },
    {
      "cell_type": "code",
      "source": [
        "type(test_data)"
      ],
      "metadata": {
        "colab": {
          "base_uri": "https://localhost:8080/"
        },
        "id": "-5OV553iAUit",
        "outputId": "cd0be68f-6828-48b3-d460-d5af27fcb10f"
      },
      "execution_count": 7,
      "outputs": [
        {
          "output_type": "execute_result",
          "data": {
            "text/plain": [
              "list"
            ]
          },
          "metadata": {},
          "execution_count": 7
        }
      ]
    },
    {
      "cell_type": "code",
      "source": [
        "type(train_data)"
      ],
      "metadata": {
        "colab": {
          "base_uri": "https://localhost:8080/"
        },
        "id": "b9t7vxRZAUgQ",
        "outputId": "bb563ee2-bd4e-4d51-8285-9eb7502c517a"
      },
      "execution_count": 8,
      "outputs": [
        {
          "output_type": "execute_result",
          "data": {
            "text/plain": [
              "list"
            ]
          },
          "metadata": {},
          "execution_count": 8
        }
      ]
    },
    {
      "cell_type": "code",
      "source": [
        "len(test_data)"
      ],
      "metadata": {
        "colab": {
          "base_uri": "https://localhost:8080/"
        },
        "id": "pZ-yTSCXAUeG",
        "outputId": "0c15c27b-ae01-42c5-bcc9-64406f7a111f"
      },
      "execution_count": 9,
      "outputs": [
        {
          "output_type": "execute_result",
          "data": {
            "text/plain": [
              "1000"
            ]
          },
          "metadata": {},
          "execution_count": 9
        }
      ]
    },
    {
      "cell_type": "code",
      "source": [
        "len(train_data)"
      ],
      "metadata": {
        "colab": {
          "base_uri": "https://localhost:8080/"
        },
        "id": "km9cNvP1AUbs",
        "outputId": "7ed8bcc1-223d-4ea9-9845-d2269d63e8c6"
      },
      "execution_count": 10,
      "outputs": [
        {
          "output_type": "execute_result",
          "data": {
            "text/plain": [
              "10000"
            ]
          },
          "metadata": {},
          "execution_count": 10
        }
      ]
    },
    {
      "cell_type": "code",
      "source": [
        "train_data[0]"
      ],
      "metadata": {
        "colab": {
          "base_uri": "https://localhost:8080/"
        },
        "id": "I7xliH2iAqUI",
        "outputId": "414a3d1b-cee3-4638-aaaf-82da2b592c04"
      },
      "execution_count": 11,
      "outputs": [
        {
          "output_type": "execute_result",
          "data": {
            "text/plain": [
              "(['Mary',\n",
              "  'moved',\n",
              "  'to',\n",
              "  'the',\n",
              "  'bathroom',\n",
              "  '.',\n",
              "  'Sandra',\n",
              "  'journeyed',\n",
              "  'to',\n",
              "  'the',\n",
              "  'bedroom',\n",
              "  '.'],\n",
              " ['Is', 'Sandra', 'in', 'the', 'hallway', '?'],\n",
              " 'no')"
            ]
          },
          "metadata": {},
          "execution_count": 11
        }
      ]
    },
    {
      "cell_type": "code",
      "source": [
        "' '.join(train_data[0][0])"
      ],
      "metadata": {
        "colab": {
          "base_uri": "https://localhost:8080/",
          "height": 35
        },
        "id": "8cGSuaNSAUZO",
        "outputId": "d1846c20-45e9-4848-f245-3d6d4f27887e"
      },
      "execution_count": 12,
      "outputs": [
        {
          "output_type": "execute_result",
          "data": {
            "application/vnd.google.colaboratory.intrinsic+json": {
              "type": "string"
            },
            "text/plain": [
              "'Mary moved to the bathroom . Sandra journeyed to the bedroom .'"
            ]
          },
          "metadata": {},
          "execution_count": 12
        }
      ]
    },
    {
      "cell_type": "code",
      "source": [
        "' '.join(train_data[0][1])"
      ],
      "metadata": {
        "colab": {
          "base_uri": "https://localhost:8080/",
          "height": 35
        },
        "id": "s_V8NOtwAu-J",
        "outputId": "ff2b4145-086b-42d2-cab0-93e951661831"
      },
      "execution_count": 13,
      "outputs": [
        {
          "output_type": "execute_result",
          "data": {
            "application/vnd.google.colaboratory.intrinsic+json": {
              "type": "string"
            },
            "text/plain": [
              "'Is Sandra in the hallway ?'"
            ]
          },
          "metadata": {},
          "execution_count": 13
        }
      ]
    },
    {
      "cell_type": "code",
      "source": [
        "train_data[0][2]"
      ],
      "metadata": {
        "colab": {
          "base_uri": "https://localhost:8080/",
          "height": 35
        },
        "id": "59tV_e2kAu7s",
        "outputId": "78c66044-bb09-488a-ebc5-42a0faaaa201"
      },
      "execution_count": 14,
      "outputs": [
        {
          "output_type": "execute_result",
          "data": {
            "application/vnd.google.colaboratory.intrinsic+json": {
              "type": "string"
            },
            "text/plain": [
              "'no'"
            ]
          },
          "metadata": {},
          "execution_count": 14
        }
      ]
    },
    {
      "cell_type": "markdown",
      "source": [
        "## Setting up Vocabulary of All Words"
      ],
      "metadata": {
        "id": "k9KAzyVkA1-p"
      }
    },
    {
      "cell_type": "code",
      "source": [
        "# Create a set that holds the vocab words\n",
        "vocab = set()"
      ],
      "metadata": {
        "id": "WTm3jqJLAu5T"
      },
      "execution_count": 15,
      "outputs": []
    },
    {
      "cell_type": "code",
      "source": [
        "all_data = test_data + train_data"
      ],
      "metadata": {
        "id": "hOMvzrfHAu3Y"
      },
      "execution_count": 16,
      "outputs": []
    },
    {
      "cell_type": "code",
      "source": [
        "for story, question , answer in all_data:\n",
        "    # In case we don't know what a union of sets is:\n",
        "    # https://www.programiz.com/python-programming/methods/set/union\n",
        "    vocab = vocab.union(set(story))\n",
        "    vocab = vocab.union(set(question))"
      ],
      "metadata": {
        "id": "xR3R_YOnAu1A"
      },
      "execution_count": 17,
      "outputs": []
    },
    {
      "cell_type": "code",
      "source": [
        "vocab.add('no')\n",
        "vocab.add('yes')"
      ],
      "metadata": {
        "id": "Hw3WwojZAuyx"
      },
      "execution_count": 18,
      "outputs": []
    },
    {
      "cell_type": "code",
      "source": [
        "vocab"
      ],
      "metadata": {
        "colab": {
          "base_uri": "https://localhost:8080/"
        },
        "id": "Q553p-GMAuwl",
        "outputId": "6f244667-a7f3-4427-f7f0-b4d8c4c78859"
      },
      "execution_count": 19,
      "outputs": [
        {
          "output_type": "execute_result",
          "data": {
            "text/plain": [
              "{'.',\n",
              " '?',\n",
              " 'Daniel',\n",
              " 'Is',\n",
              " 'John',\n",
              " 'Mary',\n",
              " 'Sandra',\n",
              " 'apple',\n",
              " 'back',\n",
              " 'bathroom',\n",
              " 'bedroom',\n",
              " 'discarded',\n",
              " 'down',\n",
              " 'dropped',\n",
              " 'football',\n",
              " 'garden',\n",
              " 'got',\n",
              " 'grabbed',\n",
              " 'hallway',\n",
              " 'in',\n",
              " 'journeyed',\n",
              " 'kitchen',\n",
              " 'left',\n",
              " 'milk',\n",
              " 'moved',\n",
              " 'no',\n",
              " 'office',\n",
              " 'picked',\n",
              " 'put',\n",
              " 'the',\n",
              " 'there',\n",
              " 'to',\n",
              " 'took',\n",
              " 'travelled',\n",
              " 'up',\n",
              " 'went',\n",
              " 'yes'}"
            ]
          },
          "metadata": {},
          "execution_count": 19
        }
      ]
    },
    {
      "cell_type": "code",
      "source": [
        "vocab_len = len(vocab) + 1 #we add an extra space to hold a 0 for Keras's pad_sequences"
      ],
      "metadata": {
        "id": "S2f-1IaDA9xG"
      },
      "execution_count": 20,
      "outputs": []
    },
    {
      "cell_type": "code",
      "source": [
        "max_story_len = max([len(data[0]) for data in all_data])"
      ],
      "metadata": {
        "id": "rdDc3qatA9uS"
      },
      "execution_count": 21,
      "outputs": []
    },
    {
      "cell_type": "code",
      "source": [
        "max_story_len"
      ],
      "metadata": {
        "colab": {
          "base_uri": "https://localhost:8080/"
        },
        "id": "EUZjt0EsA9pi",
        "outputId": "de56fa1a-c621-4db0-bbd1-2f58af27668a"
      },
      "execution_count": 22,
      "outputs": [
        {
          "output_type": "execute_result",
          "data": {
            "text/plain": [
              "156"
            ]
          },
          "metadata": {},
          "execution_count": 22
        }
      ]
    },
    {
      "cell_type": "code",
      "source": [
        "max_question_len = max([len(data[1]) for data in all_data])"
      ],
      "metadata": {
        "id": "GU8z1E0XA9nN"
      },
      "execution_count": 23,
      "outputs": []
    },
    {
      "cell_type": "code",
      "source": [
        "max_question_len"
      ],
      "metadata": {
        "colab": {
          "base_uri": "https://localhost:8080/"
        },
        "id": "ZxI50zcqA9lR",
        "outputId": "ddd6f6ee-71e4-4cff-be25-c9b51b9844df"
      },
      "execution_count": 24,
      "outputs": [
        {
          "output_type": "execute_result",
          "data": {
            "text/plain": [
              "6"
            ]
          },
          "metadata": {},
          "execution_count": 24
        }
      ]
    },
    {
      "cell_type": "markdown",
      "source": [
        "## Vectorizing the Data"
      ],
      "metadata": {
        "id": "O72fCDMtBOuY"
      }
    },
    {
      "cell_type": "code",
      "source": [
        "vocab"
      ],
      "metadata": {
        "colab": {
          "base_uri": "https://localhost:8080/"
        },
        "id": "-JJRMuw8A9jJ",
        "outputId": "2a87b8b0-4c22-4e2b-ea0b-e848f7ad3786"
      },
      "execution_count": 25,
      "outputs": [
        {
          "output_type": "execute_result",
          "data": {
            "text/plain": [
              "{'.',\n",
              " '?',\n",
              " 'Daniel',\n",
              " 'Is',\n",
              " 'John',\n",
              " 'Mary',\n",
              " 'Sandra',\n",
              " 'apple',\n",
              " 'back',\n",
              " 'bathroom',\n",
              " 'bedroom',\n",
              " 'discarded',\n",
              " 'down',\n",
              " 'dropped',\n",
              " 'football',\n",
              " 'garden',\n",
              " 'got',\n",
              " 'grabbed',\n",
              " 'hallway',\n",
              " 'in',\n",
              " 'journeyed',\n",
              " 'kitchen',\n",
              " 'left',\n",
              " 'milk',\n",
              " 'moved',\n",
              " 'no',\n",
              " 'office',\n",
              " 'picked',\n",
              " 'put',\n",
              " 'the',\n",
              " 'there',\n",
              " 'to',\n",
              " 'took',\n",
              " 'travelled',\n",
              " 'up',\n",
              " 'went',\n",
              " 'yes'}"
            ]
          },
          "metadata": {},
          "execution_count": 25
        }
      ]
    },
    {
      "cell_type": "code",
      "source": [
        "# Reserve 0 for pad_sequences\n",
        "vocab_size = len(vocab) + 1"
      ],
      "metadata": {
        "id": "RPrI28XTBRMP"
      },
      "execution_count": 26,
      "outputs": []
    },
    {
      "cell_type": "code",
      "source": [
        "from keras.preprocessing.sequence import pad_sequences\n",
        "from keras.preprocessing.text import Tokenizer"
      ],
      "metadata": {
        "id": "QiHtAuZZBR3U"
      },
      "execution_count": 27,
      "outputs": []
    },
    {
      "cell_type": "code",
      "source": [
        "# integer encode sequences of words\n",
        "tokenizer = Tokenizer(filters=[])\n",
        "tokenizer.fit_on_texts(vocab)"
      ],
      "metadata": {
        "id": "xn2T2qBpBR0_"
      },
      "execution_count": 28,
      "outputs": []
    },
    {
      "cell_type": "code",
      "source": [
        "tokenizer.word_index"
      ],
      "metadata": {
        "colab": {
          "base_uri": "https://localhost:8080/"
        },
        "id": "Z00zOzzeBRyw",
        "outputId": "f894c166-560a-4225-b8ee-7b0534b5043d"
      },
      "execution_count": 29,
      "outputs": [
        {
          "output_type": "execute_result",
          "data": {
            "text/plain": [
              "{'.': 14,\n",
              " '?': 17,\n",
              " 'apple': 30,\n",
              " 'back': 37,\n",
              " 'bathroom': 13,\n",
              " 'bedroom': 11,\n",
              " 'daniel': 35,\n",
              " 'discarded': 3,\n",
              " 'down': 8,\n",
              " 'dropped': 23,\n",
              " 'football': 27,\n",
              " 'garden': 7,\n",
              " 'got': 1,\n",
              " 'grabbed': 4,\n",
              " 'hallway': 5,\n",
              " 'in': 9,\n",
              " 'is': 18,\n",
              " 'john': 19,\n",
              " 'journeyed': 33,\n",
              " 'kitchen': 32,\n",
              " 'left': 15,\n",
              " 'mary': 24,\n",
              " 'milk': 36,\n",
              " 'moved': 16,\n",
              " 'no': 6,\n",
              " 'office': 31,\n",
              " 'picked': 22,\n",
              " 'put': 26,\n",
              " 'sandra': 29,\n",
              " 'the': 2,\n",
              " 'there': 25,\n",
              " 'to': 28,\n",
              " 'took': 20,\n",
              " 'travelled': 12,\n",
              " 'up': 21,\n",
              " 'went': 34,\n",
              " 'yes': 10}"
            ]
          },
          "metadata": {},
          "execution_count": 29
        }
      ]
    },
    {
      "cell_type": "code",
      "source": [
        "train_story_text = []\n",
        "train_question_text = []\n",
        "train_answers = []\n",
        "\n",
        "for story,question,answer in train_data:\n",
        "    train_story_text.append(story)\n",
        "    train_question_text.append(question)"
      ],
      "metadata": {
        "id": "cETpv7-TBRwc"
      },
      "execution_count": 30,
      "outputs": []
    },
    {
      "cell_type": "code",
      "source": [
        "train_story_seq = tokenizer.texts_to_sequences(train_story_text)"
      ],
      "metadata": {
        "id": "uJnTegHxBa1H"
      },
      "execution_count": 31,
      "outputs": []
    },
    {
      "cell_type": "code",
      "source": [
        "len(train_story_text)"
      ],
      "metadata": {
        "colab": {
          "base_uri": "https://localhost:8080/"
        },
        "id": "-QG6QBWYBayq",
        "outputId": "0a991a44-cd39-46bb-b078-03705ce0c2a6"
      },
      "execution_count": 32,
      "outputs": [
        {
          "output_type": "execute_result",
          "data": {
            "text/plain": [
              "10000"
            ]
          },
          "metadata": {},
          "execution_count": 32
        }
      ]
    },
    {
      "cell_type": "code",
      "source": [
        "len(train_story_seq)\n"
      ],
      "metadata": {
        "colab": {
          "base_uri": "https://localhost:8080/"
        },
        "id": "hCx7s8MWBawL",
        "outputId": "0fc9cc58-7aa0-436c-feb3-c2777b5b1391"
      },
      "execution_count": 33,
      "outputs": [
        {
          "output_type": "execute_result",
          "data": {
            "text/plain": [
              "10000"
            ]
          },
          "metadata": {},
          "execution_count": 33
        }
      ]
    },
    {
      "cell_type": "markdown",
      "source": [
        "## Functionalize Vectorization"
      ],
      "metadata": {
        "id": "j91gauwxBiKx"
      }
    },
    {
      "cell_type": "code",
      "source": [
        "def vectorize_stories(data, word_index=tokenizer.word_index, max_story_len=max_story_len,max_question_len=max_question_len):\n",
        "    '''\n",
        "    INPUT: \n",
        "    \n",
        "    data: consisting of Stories,Queries,and Answers\n",
        "    word_index: word index dictionary from tokenizer\n",
        "    max_story_len: the length of the longest story (used for pad_sequences function)\n",
        "    max_question_len: length of the longest question (used for pad_sequences function)\n",
        "\n",
        "\n",
        "    OUTPUT:\n",
        "    \n",
        "    Vectorizes the stories,questions, and answers into padded sequences. We first loop for every story, query , and\n",
        "    answer in the data. Then we convert the raw words to an word index value. Then we append each set to their appropriate\n",
        "    output list. Then once we have converted the words to numbers, we pad the sequences so they are all of equal length.\n",
        "    \n",
        "    Returns this in the form of a tuple (X,Xq,Y) (padded based on max lengths)\n",
        "    '''\n",
        "    \n",
        "    \n",
        "    # X = STORIES\n",
        "    X = []\n",
        "    # Xq = QUERY/QUESTION\n",
        "    Xq = []\n",
        "    # Y = CORRECT ANSWER\n",
        "    Y = []\n",
        "    \n",
        "    \n",
        "    for story, query, answer in data:\n",
        "        \n",
        "        # Grab the word index for every word in story\n",
        "        x = [word_index[word.lower()] for word in story]\n",
        "        # Grab the word index for every word in query\n",
        "        xq = [word_index[word.lower()] for word in query]\n",
        "        \n",
        "        # Grab the Answers (either Yes/No so we don't need to use list comprehension here)\n",
        "        # Index 0 is reserved so we're going to use + 1\n",
        "        y = np.zeros(len(word_index) + 1)\n",
        "        \n",
        "        # Now that y is all zeros and we know its just Yes/No , we can use numpy logic to create this assignment\n",
        "        #\n",
        "        y[word_index[answer]] = 1\n",
        "        \n",
        "        # Append each set of story,query, and answer to their respective holding lists\n",
        "        X.append(x)\n",
        "        Xq.append(xq)\n",
        "        Y.append(y)\n",
        "        \n",
        "    # Finally, pad the sequences based on their max length so the RNN can be trained on uniformly long sequences.\n",
        "        \n",
        "    # RETURN TUPLE FOR UNPACKING\n",
        "    return (pad_sequences(X, maxlen=max_story_len),pad_sequences(Xq, maxlen=max_question_len), np.array(Y))"
      ],
      "metadata": {
        "id": "lFAAhQilBauF"
      },
      "execution_count": 34,
      "outputs": []
    },
    {
      "cell_type": "code",
      "source": [
        "inputs_train, queries_train, answers_train = vectorize_stories(train_data)"
      ],
      "metadata": {
        "id": "F3B-onR4Barm"
      },
      "execution_count": 35,
      "outputs": []
    },
    {
      "cell_type": "code",
      "source": [
        "inputs_test, queries_test, answers_test = vectorize_stories(test_data)"
      ],
      "metadata": {
        "id": "uLoj_nK_Br6O"
      },
      "execution_count": 36,
      "outputs": []
    },
    {
      "cell_type": "code",
      "source": [
        "inputs_test"
      ],
      "metadata": {
        "colab": {
          "base_uri": "https://localhost:8080/"
        },
        "id": "YA8GvwmeBtHf",
        "outputId": "0fef3f65-8d5c-4ee0-c272-31727f9aecd7"
      },
      "execution_count": 37,
      "outputs": [
        {
          "output_type": "execute_result",
          "data": {
            "text/plain": [
              "array([[ 0,  0,  0, ...,  2, 11, 14],\n",
              "       [ 0,  0,  0, ...,  2,  7, 14],\n",
              "       [ 0,  0,  0, ...,  2,  7, 14],\n",
              "       ...,\n",
              "       [ 0,  0,  0, ...,  2, 30, 14],\n",
              "       [ 0,  0,  0, ...,  2,  7, 14],\n",
              "       [ 0,  0,  0, ..., 30, 25, 14]], dtype=int32)"
            ]
          },
          "metadata": {},
          "execution_count": 37
        }
      ]
    },
    {
      "cell_type": "code",
      "source": [
        "queries_test"
      ],
      "metadata": {
        "colab": {
          "base_uri": "https://localhost:8080/"
        },
        "id": "cyHgVYqhBtE7",
        "outputId": "49fe34c3-7987-4580-9b49-51441e9be50d"
      },
      "execution_count": 38,
      "outputs": [
        {
          "output_type": "execute_result",
          "data": {
            "text/plain": [
              "array([[18, 19,  9,  2, 32, 17],\n",
              "       [18, 19,  9,  2, 32, 17],\n",
              "       [18, 19,  9,  2,  7, 17],\n",
              "       ...,\n",
              "       [18, 24,  9,  2, 11, 17],\n",
              "       [18, 29,  9,  2,  7, 17],\n",
              "       [18, 24,  9,  2,  7, 17]], dtype=int32)"
            ]
          },
          "metadata": {},
          "execution_count": 38
        }
      ]
    },
    {
      "cell_type": "code",
      "source": [
        "answers_test"
      ],
      "metadata": {
        "colab": {
          "base_uri": "https://localhost:8080/"
        },
        "id": "4HgRxKdIBtC2",
        "outputId": "354951ab-2f14-4da0-d49c-39e9b87545ca"
      },
      "execution_count": 39,
      "outputs": [
        {
          "output_type": "execute_result",
          "data": {
            "text/plain": [
              "array([[0., 0., 0., ..., 0., 0., 0.],\n",
              "       [0., 0., 0., ..., 0., 0., 0.],\n",
              "       [0., 0., 0., ..., 0., 0., 0.],\n",
              "       ...,\n",
              "       [0., 0., 0., ..., 0., 0., 0.],\n",
              "       [0., 0., 0., ..., 0., 0., 0.],\n",
              "       [0., 0., 0., ..., 0., 0., 0.]])"
            ]
          },
          "metadata": {},
          "execution_count": 39
        }
      ]
    },
    {
      "cell_type": "code",
      "source": [
        "sum(answers_test)"
      ],
      "metadata": {
        "colab": {
          "base_uri": "https://localhost:8080/"
        },
        "id": "5yu-pzRfBtAm",
        "outputId": "18f40f18-a1e1-4c86-b59c-a953ccd90d05"
      },
      "execution_count": 40,
      "outputs": [
        {
          "output_type": "execute_result",
          "data": {
            "text/plain": [
              "array([  0.,   0.,   0.,   0.,   0.,   0., 503.,   0.,   0.,   0., 497.,\n",
              "         0.,   0.,   0.,   0.,   0.,   0.,   0.,   0.,   0.,   0.,   0.,\n",
              "         0.,   0.,   0.,   0.,   0.,   0.,   0.,   0.,   0.,   0.,   0.,\n",
              "         0.,   0.,   0.,   0.,   0.])"
            ]
          },
          "metadata": {},
          "execution_count": 40
        }
      ]
    },
    {
      "cell_type": "code",
      "source": [
        "tokenizer.word_index['yes']"
      ],
      "metadata": {
        "colab": {
          "base_uri": "https://localhost:8080/"
        },
        "id": "AKEdWT3qBs-R",
        "outputId": "90d0e63f-efab-4e23-9c10-b0bd23d1b275"
      },
      "execution_count": 41,
      "outputs": [
        {
          "output_type": "execute_result",
          "data": {
            "text/plain": [
              "10"
            ]
          },
          "metadata": {},
          "execution_count": 41
        }
      ]
    },
    {
      "cell_type": "code",
      "source": [
        "tokenizer.word_index['no']"
      ],
      "metadata": {
        "colab": {
          "base_uri": "https://localhost:8080/"
        },
        "id": "oY2oznVaBs2H",
        "outputId": "ee697ed6-8af0-4e3a-c248-8977a901c452"
      },
      "execution_count": 42,
      "outputs": [
        {
          "output_type": "execute_result",
          "data": {
            "text/plain": [
              "6"
            ]
          },
          "metadata": {},
          "execution_count": 42
        }
      ]
    },
    {
      "cell_type": "markdown",
      "source": [
        "## Creating the Model"
      ],
      "metadata": {
        "id": "wP03CrRgB6Qw"
      }
    },
    {
      "cell_type": "code",
      "source": [
        "from keras.models import Sequential, Model\n",
        "from keras.layers.embeddings import Embedding\n",
        "from keras.layers import Input, Activation, Dense, Permute, Dropout\n",
        "from keras.layers import add, dot, concatenate\n",
        "from keras.layers import LSTM"
      ],
      "metadata": {
        "id": "pMwJH26ZB7I6"
      },
      "execution_count": 43,
      "outputs": []
    },
    {
      "cell_type": "markdown",
      "source": [
        "## Placeholders for Inputs\n",
        "Recall we technically have two inputs, stories and questions. So we need to use placeholders. Input() is used to instantiate a Keras tensor."
      ],
      "metadata": {
        "id": "B7-ZPR4XB_Tx"
      }
    },
    {
      "cell_type": "code",
      "source": [
        "input_sequence = Input((max_story_len,))\n",
        "question = Input((max_question_len,))"
      ],
      "metadata": {
        "id": "OWdzDzVBB2pR"
      },
      "execution_count": 44,
      "outputs": []
    },
    {
      "cell_type": "markdown",
      "source": [
        "## Encoders"
      ],
      "metadata": {
        "id": "BRYvEWwqCEtX"
      }
    },
    {
      "cell_type": "markdown",
      "source": [
        "### Input Encoder m"
      ],
      "metadata": {
        "id": "GKQFZZtiCIxw"
      }
    },
    {
      "cell_type": "code",
      "source": [
        "# Input gets embedded to a sequence of vectors\n",
        "input_encoder_m = Sequential()\n",
        "input_encoder_m.add(Embedding(input_dim=vocab_size,output_dim=64))\n",
        "input_encoder_m.add(Dropout(0.3))\n",
        "\n",
        "# This encoder will output:\n",
        "# (samples, story_maxlen, embedding_dim)"
      ],
      "metadata": {
        "id": "FUNl5VxQB2mr"
      },
      "execution_count": 45,
      "outputs": []
    },
    {
      "cell_type": "markdown",
      "source": [
        "### Input Encoder c"
      ],
      "metadata": {
        "id": "mvsey2k2CNr_"
      }
    },
    {
      "cell_type": "code",
      "source": [
        "# embed the input into a sequence of vectors of size query_maxlen\n",
        "input_encoder_c = Sequential()\n",
        "input_encoder_c.add(Embedding(input_dim=vocab_size,output_dim=max_question_len))\n",
        "input_encoder_c.add(Dropout(0.3))\n",
        "# output: (samples, story_maxlen, query_maxlen)"
      ],
      "metadata": {
        "id": "U3kyqWGdCOfO"
      },
      "execution_count": 46,
      "outputs": []
    },
    {
      "cell_type": "markdown",
      "source": [
        "### Question Encoder"
      ],
      "metadata": {
        "id": "9vjNXeqcCRLq"
      }
    },
    {
      "cell_type": "code",
      "source": [
        "# embed the question into a sequence of vectors\n",
        "question_encoder = Sequential()\n",
        "question_encoder.add(Embedding(input_dim=vocab_size,\n",
        "                               output_dim=64,\n",
        "                               input_length=max_question_len))\n",
        "question_encoder.add(Dropout(0.3))\n",
        "# output: (samples, query_maxlen, embedding_dim)"
      ],
      "metadata": {
        "id": "RfMArUXzB2kT"
      },
      "execution_count": 47,
      "outputs": []
    },
    {
      "cell_type": "markdown",
      "source": [
        "### Encode the Sequences"
      ],
      "metadata": {
        "id": "sQFGEhWFCUzI"
      }
    },
    {
      "cell_type": "code",
      "source": [
        "# encode input sequence and questions (which are indices)\n",
        "# to sequences of dense vectors\n",
        "input_encoded_m = input_encoder_m(input_sequence)\n",
        "input_encoded_c = input_encoder_c(input_sequence)\n",
        "question_encoded = question_encoder(question)"
      ],
      "metadata": {
        "id": "OqU36tXTB2h1"
      },
      "execution_count": 48,
      "outputs": []
    },
    {
      "cell_type": "code",
      "source": [
        ""
      ],
      "metadata": {
        "id": "CgXjuV76Cctx"
      },
      "execution_count": 48,
      "outputs": []
    },
    {
      "cell_type": "code",
      "source": [
        ""
      ],
      "metadata": {
        "id": "dCJpIXtUCfff"
      },
      "execution_count": 48,
      "outputs": []
    },
    {
      "cell_type": "markdown",
      "source": [
        "Use dot product to compute the match between first input vector seq and the query"
      ],
      "metadata": {
        "id": "JQzLauUJCdq8"
      }
    },
    {
      "cell_type": "code",
      "source": [
        "# shape: `(samples, story_maxlen, query_maxlen)`\n",
        "match = dot([input_encoded_m, question_encoded], axes=(2, 2))\n",
        "match = Activation('softmax')(match)"
      ],
      "metadata": {
        "id": "d6aUtGBaB2fX"
      },
      "execution_count": 49,
      "outputs": []
    },
    {
      "cell_type": "markdown",
      "source": [
        "Add this match matrix with the second input vector sequence"
      ],
      "metadata": {
        "id": "elWYbWeLCi0W"
      }
    },
    {
      "cell_type": "code",
      "source": [
        "# add the match matrix with the second input vector sequence\n",
        "response = add([match, input_encoded_c])  # (samples, story_maxlen, query_maxlen)\n",
        "response = Permute((2, 1))(response)  # (samples, query_maxlen, story_maxlen)"
      ],
      "metadata": {
        "id": "kwWgiereB2c_"
      },
      "execution_count": 50,
      "outputs": []
    },
    {
      "cell_type": "markdown",
      "source": [
        "### Concatenate"
      ],
      "metadata": {
        "id": "6vM9mV5tCrPy"
      }
    },
    {
      "cell_type": "code",
      "source": [
        "# concatenate the match matrix with the question vector sequence\n",
        "answer = concatenate([response, question_encoded])"
      ],
      "metadata": {
        "id": "zMyUZHWJCsG0"
      },
      "execution_count": 51,
      "outputs": []
    },
    {
      "cell_type": "code",
      "source": [
        "answer\n"
      ],
      "metadata": {
        "colab": {
          "base_uri": "https://localhost:8080/"
        },
        "id": "Mq-wnhiLCo9R",
        "outputId": "fcaa0663-f41c-4bba-ff0c-bc8567276fab"
      },
      "execution_count": 52,
      "outputs": [
        {
          "output_type": "execute_result",
          "data": {
            "text/plain": [
              "<KerasTensor: shape=(None, 6, 220) dtype=float32 (created by layer 'concatenate')>"
            ]
          },
          "metadata": {},
          "execution_count": 52
        }
      ]
    },
    {
      "cell_type": "code",
      "source": [
        "# Reduce with RNN (LSTM)\n",
        "answer = LSTM(32)(answer)  # (samples, 32)"
      ],
      "metadata": {
        "id": "9jLUs16mCo7N"
      },
      "execution_count": 53,
      "outputs": []
    },
    {
      "cell_type": "code",
      "source": [
        "# Regularization with Dropout\n",
        "answer = Dropout(0.5)(answer)\n",
        "answer = Dense(vocab_size)(answer)  # (samples, vocab_size)"
      ],
      "metadata": {
        "id": "Rno8YwV_Co4n"
      },
      "execution_count": 54,
      "outputs": []
    },
    {
      "cell_type": "code",
      "source": [
        "# we output a probability distribution over the vocabulary\n",
        "answer = Activation('softmax')(answer)\n",
        "\n",
        "# build the final model\n",
        "model = Model([input_sequence, question], answer)\n",
        "model.compile(optimizer='rmsprop', loss='categorical_crossentropy',\n",
        "              metrics=['accuracy'])"
      ],
      "metadata": {
        "id": "-9L4DMhtCo2Z"
      },
      "execution_count": 55,
      "outputs": []
    },
    {
      "cell_type": "code",
      "source": [
        "model.summary()"
      ],
      "metadata": {
        "colab": {
          "base_uri": "https://localhost:8080/"
        },
        "id": "REzB7DQlCoz9",
        "outputId": "6f197f96-659b-45fe-ad75-61ada46c8f08"
      },
      "execution_count": 56,
      "outputs": [
        {
          "output_type": "stream",
          "name": "stdout",
          "text": [
            "Model: \"model\"\n",
            "__________________________________________________________________________________________________\n",
            " Layer (type)                   Output Shape         Param #     Connected to                     \n",
            "==================================================================================================\n",
            " input_1 (InputLayer)           [(None, 156)]        0           []                               \n",
            "                                                                                                  \n",
            " input_2 (InputLayer)           [(None, 6)]          0           []                               \n",
            "                                                                                                  \n",
            " sequential (Sequential)        (None, None, 64)     2432        ['input_1[0][0]']                \n",
            "                                                                                                  \n",
            " sequential_2 (Sequential)      (None, 6, 64)        2432        ['input_2[0][0]']                \n",
            "                                                                                                  \n",
            " dot (Dot)                      (None, 156, 6)       0           ['sequential[0][0]',             \n",
            "                                                                  'sequential_2[0][0]']           \n",
            "                                                                                                  \n",
            " activation (Activation)        (None, 156, 6)       0           ['dot[0][0]']                    \n",
            "                                                                                                  \n",
            " sequential_1 (Sequential)      (None, None, 6)      228         ['input_1[0][0]']                \n",
            "                                                                                                  \n",
            " add (Add)                      (None, 156, 6)       0           ['activation[0][0]',             \n",
            "                                                                  'sequential_1[0][0]']           \n",
            "                                                                                                  \n",
            " permute (Permute)              (None, 6, 156)       0           ['add[0][0]']                    \n",
            "                                                                                                  \n",
            " concatenate (Concatenate)      (None, 6, 220)       0           ['permute[0][0]',                \n",
            "                                                                  'sequential_2[0][0]']           \n",
            "                                                                                                  \n",
            " lstm (LSTM)                    (None, 32)           32384       ['concatenate[0][0]']            \n",
            "                                                                                                  \n",
            " dropout_3 (Dropout)            (None, 32)           0           ['lstm[0][0]']                   \n",
            "                                                                                                  \n",
            " dense (Dense)                  (None, 38)           1254        ['dropout_3[0][0]']              \n",
            "                                                                                                  \n",
            " activation_1 (Activation)      (None, 38)           0           ['dense[0][0]']                  \n",
            "                                                                                                  \n",
            "==================================================================================================\n",
            "Total params: 38,730\n",
            "Trainable params: 38,730\n",
            "Non-trainable params: 0\n",
            "__________________________________________________________________________________________________\n"
          ]
        }
      ]
    },
    {
      "cell_type": "code",
      "source": [
        "# train\n",
        "history = model.fit([inputs_train, queries_train], answers_train,batch_size=16,\n",
        "                    epochs=64,validation_data=([inputs_test, queries_test], answers_test))"
      ],
      "metadata": {
        "colab": {
          "base_uri": "https://localhost:8080/"
        },
        "id": "pNp5lEW3Coxb",
        "outputId": "67734187-e2a6-4f51-ffce-6be26384db9e"
      },
      "execution_count": 57,
      "outputs": [
        {
          "output_type": "stream",
          "name": "stdout",
          "text": [
            "Epoch 1/64\n",
            "625/625 [==============================] - 16s 14ms/step - loss: 0.8233 - accuracy: 0.5017 - val_loss: 0.6933 - val_accuracy: 0.4930\n",
            "Epoch 2/64\n",
            "625/625 [==============================] - 7s 12ms/step - loss: 0.6975 - accuracy: 0.5047 - val_loss: 0.6937 - val_accuracy: 0.5030\n",
            "Epoch 3/64\n",
            "625/625 [==============================] - 7s 12ms/step - loss: 0.6955 - accuracy: 0.4965 - val_loss: 0.6937 - val_accuracy: 0.4970\n",
            "Epoch 4/64\n",
            "625/625 [==============================] - 7s 11ms/step - loss: 0.6957 - accuracy: 0.4976 - val_loss: 0.6942 - val_accuracy: 0.4970\n",
            "Epoch 5/64\n",
            "625/625 [==============================] - 7s 12ms/step - loss: 0.6944 - accuracy: 0.5083 - val_loss: 0.6951 - val_accuracy: 0.4970\n",
            "Epoch 6/64\n",
            "625/625 [==============================] - 7s 11ms/step - loss: 0.6945 - accuracy: 0.5048 - val_loss: 0.6934 - val_accuracy: 0.4980\n",
            "Epoch 7/64\n",
            "625/625 [==============================] - 7s 11ms/step - loss: 0.6942 - accuracy: 0.5077 - val_loss: 0.6940 - val_accuracy: 0.4950\n",
            "Epoch 8/64\n",
            "625/625 [==============================] - 8s 13ms/step - loss: 0.6927 - accuracy: 0.5217 - val_loss: 0.6937 - val_accuracy: 0.4960\n",
            "Epoch 9/64\n",
            "625/625 [==============================] - 7s 11ms/step - loss: 0.6741 - accuracy: 0.5698 - val_loss: 0.6602 - val_accuracy: 0.6050\n",
            "Epoch 10/64\n",
            "625/625 [==============================] - 7s 11ms/step - loss: 0.6333 - accuracy: 0.6458 - val_loss: 0.6041 - val_accuracy: 0.6840\n",
            "Epoch 11/64\n",
            "625/625 [==============================] - 9s 15ms/step - loss: 0.5961 - accuracy: 0.6955 - val_loss: 0.5437 - val_accuracy: 0.7370\n",
            "Epoch 12/64\n",
            "625/625 [==============================] - 9s 14ms/step - loss: 0.5142 - accuracy: 0.7585 - val_loss: 0.4368 - val_accuracy: 0.7920\n",
            "Epoch 13/64\n",
            "625/625 [==============================] - 8s 13ms/step - loss: 0.4425 - accuracy: 0.8069 - val_loss: 0.3966 - val_accuracy: 0.8160\n",
            "Epoch 14/64\n",
            "625/625 [==============================] - 7s 12ms/step - loss: 0.4059 - accuracy: 0.8323 - val_loss: 0.3817 - val_accuracy: 0.8370\n",
            "Epoch 15/64\n",
            "625/625 [==============================] - 8s 12ms/step - loss: 0.3758 - accuracy: 0.8441 - val_loss: 0.3771 - val_accuracy: 0.8310\n",
            "Epoch 16/64\n",
            "625/625 [==============================] - 7s 11ms/step - loss: 0.3557 - accuracy: 0.8518 - val_loss: 0.3612 - val_accuracy: 0.8420\n",
            "Epoch 17/64\n",
            "625/625 [==============================] - 7s 12ms/step - loss: 0.3466 - accuracy: 0.8542 - val_loss: 0.3691 - val_accuracy: 0.8280\n",
            "Epoch 18/64\n",
            "625/625 [==============================] - 7s 12ms/step - loss: 0.3366 - accuracy: 0.8573 - val_loss: 0.3479 - val_accuracy: 0.8400\n",
            "Epoch 19/64\n",
            "625/625 [==============================] - 7s 12ms/step - loss: 0.3295 - accuracy: 0.8601 - val_loss: 0.3632 - val_accuracy: 0.8300\n",
            "Epoch 20/64\n",
            "625/625 [==============================] - 7s 12ms/step - loss: 0.3267 - accuracy: 0.8592 - val_loss: 0.3470 - val_accuracy: 0.8390\n",
            "Epoch 21/64\n",
            "625/625 [==============================] - 7s 11ms/step - loss: 0.3255 - accuracy: 0.8584 - val_loss: 0.3395 - val_accuracy: 0.8400\n",
            "Epoch 22/64\n",
            "625/625 [==============================] - 7s 11ms/step - loss: 0.3203 - accuracy: 0.8601 - val_loss: 0.3525 - val_accuracy: 0.8430\n",
            "Epoch 23/64\n",
            "625/625 [==============================] - 7s 11ms/step - loss: 0.3170 - accuracy: 0.8624 - val_loss: 0.3334 - val_accuracy: 0.8430\n",
            "Epoch 24/64\n",
            "625/625 [==============================] - 8s 12ms/step - loss: 0.3114 - accuracy: 0.8603 - val_loss: 0.3435 - val_accuracy: 0.8400\n",
            "Epoch 25/64\n",
            "625/625 [==============================] - 7s 11ms/step - loss: 0.3140 - accuracy: 0.8634 - val_loss: 0.3552 - val_accuracy: 0.8320\n",
            "Epoch 26/64\n",
            "625/625 [==============================] - 7s 11ms/step - loss: 0.3161 - accuracy: 0.8603 - val_loss: 0.3436 - val_accuracy: 0.8390\n",
            "Epoch 27/64\n",
            "625/625 [==============================] - 7s 12ms/step - loss: 0.3104 - accuracy: 0.8646 - val_loss: 0.3602 - val_accuracy: 0.8390\n",
            "Epoch 28/64\n",
            "625/625 [==============================] - 7s 11ms/step - loss: 0.3141 - accuracy: 0.8630 - val_loss: 0.3386 - val_accuracy: 0.8410\n",
            "Epoch 29/64\n",
            "625/625 [==============================] - 7s 11ms/step - loss: 0.3078 - accuracy: 0.8693 - val_loss: 0.3397 - val_accuracy: 0.8430\n",
            "Epoch 30/64\n",
            "625/625 [==============================] - 7s 11ms/step - loss: 0.3108 - accuracy: 0.8624 - val_loss: 0.3470 - val_accuracy: 0.8390\n",
            "Epoch 31/64\n",
            "625/625 [==============================] - 7s 11ms/step - loss: 0.3060 - accuracy: 0.8643 - val_loss: 0.3379 - val_accuracy: 0.8480\n",
            "Epoch 32/64\n",
            "625/625 [==============================] - 7s 11ms/step - loss: 0.3043 - accuracy: 0.8635 - val_loss: 0.3450 - val_accuracy: 0.8420\n",
            "Epoch 33/64\n",
            "625/625 [==============================] - 7s 11ms/step - loss: 0.3059 - accuracy: 0.8652 - val_loss: 0.3506 - val_accuracy: 0.8400\n",
            "Epoch 34/64\n",
            "625/625 [==============================] - 7s 11ms/step - loss: 0.2995 - accuracy: 0.8684 - val_loss: 0.3597 - val_accuracy: 0.8300\n",
            "Epoch 35/64\n",
            "625/625 [==============================] - 7s 11ms/step - loss: 0.3076 - accuracy: 0.8622 - val_loss: 0.3378 - val_accuracy: 0.8400\n",
            "Epoch 36/64\n",
            "625/625 [==============================] - 7s 11ms/step - loss: 0.3052 - accuracy: 0.8685 - val_loss: 0.3367 - val_accuracy: 0.8340\n",
            "Epoch 37/64\n",
            "625/625 [==============================] - 7s 11ms/step - loss: 0.3058 - accuracy: 0.8673 - val_loss: 0.4073 - val_accuracy: 0.8270\n",
            "Epoch 38/64\n",
            "625/625 [==============================] - 7s 11ms/step - loss: 0.3024 - accuracy: 0.8690 - val_loss: 0.3433 - val_accuracy: 0.8350\n",
            "Epoch 39/64\n",
            "625/625 [==============================] - 7s 12ms/step - loss: 0.3024 - accuracy: 0.8688 - val_loss: 0.3467 - val_accuracy: 0.8340\n",
            "Epoch 40/64\n",
            "625/625 [==============================] - 7s 11ms/step - loss: 0.3024 - accuracy: 0.8694 - val_loss: 0.3572 - val_accuracy: 0.8340\n",
            "Epoch 41/64\n",
            "625/625 [==============================] - 7s 11ms/step - loss: 0.3026 - accuracy: 0.8682 - val_loss: 0.3614 - val_accuracy: 0.8360\n",
            "Epoch 42/64\n",
            "625/625 [==============================] - 7s 11ms/step - loss: 0.2958 - accuracy: 0.8689 - val_loss: 0.3604 - val_accuracy: 0.8310\n",
            "Epoch 43/64\n",
            "625/625 [==============================] - 7s 11ms/step - loss: 0.2974 - accuracy: 0.8720 - val_loss: 0.3503 - val_accuracy: 0.8340\n",
            "Epoch 44/64\n",
            "625/625 [==============================] - 7s 11ms/step - loss: 0.3013 - accuracy: 0.8691 - val_loss: 0.3779 - val_accuracy: 0.8370\n",
            "Epoch 45/64\n",
            "625/625 [==============================] - 7s 11ms/step - loss: 0.3017 - accuracy: 0.8664 - val_loss: 0.3647 - val_accuracy: 0.8370\n",
            "Epoch 46/64\n",
            "625/625 [==============================] - 7s 11ms/step - loss: 0.3017 - accuracy: 0.8703 - val_loss: 0.3478 - val_accuracy: 0.8410\n",
            "Epoch 47/64\n",
            "625/625 [==============================] - 7s 12ms/step - loss: 0.2963 - accuracy: 0.8716 - val_loss: 0.3697 - val_accuracy: 0.8360\n",
            "Epoch 48/64\n",
            "625/625 [==============================] - 7s 11ms/step - loss: 0.2912 - accuracy: 0.8734 - val_loss: 0.3609 - val_accuracy: 0.8370\n",
            "Epoch 49/64\n",
            "625/625 [==============================] - 7s 11ms/step - loss: 0.2965 - accuracy: 0.8708 - val_loss: 0.3711 - val_accuracy: 0.8450\n",
            "Epoch 50/64\n",
            "625/625 [==============================] - 7s 11ms/step - loss: 0.2926 - accuracy: 0.8704 - val_loss: 0.3514 - val_accuracy: 0.8420\n",
            "Epoch 51/64\n",
            "625/625 [==============================] - 7s 11ms/step - loss: 0.2916 - accuracy: 0.8750 - val_loss: 0.3735 - val_accuracy: 0.8380\n",
            "Epoch 52/64\n",
            "625/625 [==============================] - 7s 11ms/step - loss: 0.2919 - accuracy: 0.8713 - val_loss: 0.3596 - val_accuracy: 0.8350\n",
            "Epoch 53/64\n",
            "625/625 [==============================] - 7s 11ms/step - loss: 0.2952 - accuracy: 0.8731 - val_loss: 0.3671 - val_accuracy: 0.8320\n",
            "Epoch 54/64\n",
            "625/625 [==============================] - 7s 11ms/step - loss: 0.2990 - accuracy: 0.8708 - val_loss: 0.3482 - val_accuracy: 0.8370\n",
            "Epoch 55/64\n",
            "625/625 [==============================] - 7s 11ms/step - loss: 0.2987 - accuracy: 0.8725 - val_loss: 0.3636 - val_accuracy: 0.8230\n",
            "Epoch 56/64\n",
            "625/625 [==============================] - 7s 11ms/step - loss: 0.2877 - accuracy: 0.8757 - val_loss: 0.3918 - val_accuracy: 0.8250\n",
            "Epoch 57/64\n",
            "625/625 [==============================] - 8s 13ms/step - loss: 0.2906 - accuracy: 0.8769 - val_loss: 0.3689 - val_accuracy: 0.8420\n",
            "Epoch 58/64\n",
            "625/625 [==============================] - 7s 11ms/step - loss: 0.2924 - accuracy: 0.8724 - val_loss: 0.3671 - val_accuracy: 0.8390\n",
            "Epoch 59/64\n",
            "625/625 [==============================] - 7s 11ms/step - loss: 0.2944 - accuracy: 0.8779 - val_loss: 0.3578 - val_accuracy: 0.8340\n",
            "Epoch 60/64\n",
            "625/625 [==============================] - 7s 11ms/step - loss: 0.2938 - accuracy: 0.8717 - val_loss: 0.3806 - val_accuracy: 0.8260\n",
            "Epoch 61/64\n",
            "625/625 [==============================] - 7s 11ms/step - loss: 0.2850 - accuracy: 0.8781 - val_loss: 0.3892 - val_accuracy: 0.8320\n",
            "Epoch 62/64\n",
            "625/625 [==============================] - 7s 11ms/step - loss: 0.2885 - accuracy: 0.8758 - val_loss: 0.4156 - val_accuracy: 0.8340\n",
            "Epoch 63/64\n",
            "625/625 [==============================] - 7s 11ms/step - loss: 0.2841 - accuracy: 0.8755 - val_loss: 0.3812 - val_accuracy: 0.8370\n",
            "Epoch 64/64\n",
            "625/625 [==============================] - 7s 11ms/step - loss: 0.2884 - accuracy: 0.8753 - val_loss: 0.4022 - val_accuracy: 0.8380\n"
          ]
        }
      ]
    },
    {
      "cell_type": "markdown",
      "source": [
        "Saving the Model"
      ],
      "metadata": {
        "id": "9TP_s02oF5ME"
      }
    },
    {
      "cell_type": "code",
      "source": [
        "filename = 'chatbot_120_epochs.h5'\n",
        "model.save(filename)"
      ],
      "metadata": {
        "id": "EMob0rKuF40G"
      },
      "execution_count": 66,
      "outputs": []
    },
    {
      "cell_type": "markdown",
      "source": [
        "## Evaluating the Model¶\n"
      ],
      "metadata": {
        "id": "VY2WX45cC-eg"
      }
    },
    {
      "cell_type": "markdown",
      "source": [
        "Plotting Out Training History"
      ],
      "metadata": {
        "id": "kIkVDLy2DNaI"
      }
    },
    {
      "cell_type": "code",
      "source": [
        "import matplotlib.pyplot as plt\n",
        "%matplotlib inline\n",
        "print(history.history.keys())"
      ],
      "metadata": {
        "colab": {
          "base_uri": "https://localhost:8080/"
        },
        "id": "T2fsTK01CovW",
        "outputId": "9c3537b6-a42f-4f76-b43f-06a9e2eac5c3"
      },
      "execution_count": 58,
      "outputs": [
        {
          "output_type": "stream",
          "name": "stdout",
          "text": [
            "dict_keys(['loss', 'accuracy', 'val_loss', 'val_accuracy'])\n"
          ]
        }
      ]
    },
    {
      "cell_type": "code",
      "source": [
        "# summarize history for accuracy\n",
        "plt.plot(history.history['accuracy'])\n",
        "plt.plot(history.history['val_accuracy'])\n",
        "plt.title('model accuracy')\n",
        "plt.ylabel('accuracy')\n",
        "plt.xlabel('epoch')\n",
        "plt.grid()\n",
        "plt.legend(['train', 'test'], loc='upper left')\n",
        "plt.show()"
      ],
      "metadata": {
        "colab": {
          "base_uri": "https://localhost:8080/",
          "height": 295
        },
        "id": "BqQgzF06Cos4",
        "outputId": "596ac4cd-8f5f-4fe3-fd32-bb5663125ba0"
      },
      "execution_count": 59,
      "outputs": [
        {
          "output_type": "display_data",
          "data": {
            "image/png": "[encoded data removed]",
            "text/plain": [
              "<Figure size 432x288 with 1 Axes>"
            ]
          },
          "metadata": {
            "needs_background": "light"
          }
        }
      ]
    },
    {
      "cell_type": "code",
      "source": [
        "# summarize history for loss\n",
        "plt.plot(history.history['loss'])\n",
        "plt.plot(history.history['val_loss'])\n",
        "plt.title('model loss')\n",
        "plt.ylabel('loss')\n",
        "plt.xlabel('epoch')\n",
        "plt.grid()\n",
        "plt.legend(['train', 'test'], loc='upper left')\n",
        "plt.show()"
      ],
      "metadata": {
        "colab": {
          "base_uri": "https://localhost:8080/",
          "height": 295
        },
        "id": "BsV9FJs9DRnY",
        "outputId": "391c7ec8-32ba-42a4-bb6b-78d23425e642"
      },
      "execution_count": 60,
      "outputs": [
        {
          "output_type": "display_data",
          "data": {
            "image/png": "[encoded data removed]",
            "text/plain": [
              "<Figure size 432x288 with 1 Axes>"
            ]
          },
          "metadata": {
            "needs_background": "light"
          }
        }
      ]
    },
    {
      "cell_type": "markdown",
      "source": [
        "## Evaluating on Given Test Set"
      ],
      "metadata": {
        "id": "lpmgxm04DVqx"
      }
    },
    {
      "cell_type": "code",
      "source": [
        "model.load_weights(filename)\n",
        "pred_results = model.predict(([inputs_test, queries_test]))"
      ],
      "metadata": {
        "id": "Y7RyKGPcDRlB"
      },
      "execution_count": 68,
      "outputs": []
    },
    {
      "cell_type": "code",
      "source": [
        "test_data[0][0]"
      ],
      "metadata": {
        "id": "yJtN4miIDRjG"
      },
      "execution_count": 60,
      "outputs": []
    },
    {
      "cell_type": "code",
      "source": [
        "story =' '.join(word for word in test_data[0][0])\n",
        "print(story)"
      ],
      "metadata": {
        "colab": {
          "base_uri": "https://localhost:8080/"
        },
        "id": "uO1rapNlDchL",
        "outputId": "8cfd8d90-78d9-44d1-cab1-daf78d9da308"
      },
      "execution_count": 62,
      "outputs": [
        {
          "output_type": "stream",
          "name": "stdout",
          "text": [
            "Mary got the milk there . John moved to the bedroom .\n"
          ]
        }
      ]
    },
    {
      "cell_type": "code",
      "source": [
        "query = ' '.join(word for word in test_data[0][1])\n",
        "print(query)"
      ],
      "metadata": {
        "colab": {
          "base_uri": "https://localhost:8080/"
        },
        "id": "zuvW59sJDcfI",
        "outputId": "e099fc7c-903d-4f22-e5e0-a0580d2b64d5"
      },
      "execution_count": 63,
      "outputs": [
        {
          "output_type": "stream",
          "name": "stdout",
          "text": [
            "Is John in the kitchen ?\n"
          ]
        }
      ]
    },
    {
      "cell_type": "code",
      "source": [
        "print(\"True Test Answer from Data is:\",test_data[0][2])"
      ],
      "metadata": {
        "colab": {
          "base_uri": "https://localhost:8080/"
        },
        "id": "E4paTXfjDcco",
        "outputId": "8748c501-fa23-4f81-e6e6-2e75334e6cb8"
      },
      "execution_count": 64,
      "outputs": [
        {
          "output_type": "stream",
          "name": "stdout",
          "text": [
            "True Test Answer from Data is: no\n"
          ]
        }
      ]
    },
    {
      "cell_type": "code",
      "source": [
        "#Generate prediction from model\n",
        "val_max = np.argmax(pred_results[0])\n",
        "\n",
        "for key, val in tokenizer.word_index.items():\n",
        "    if val == val_max:\n",
        "        k = key\n",
        "\n",
        "print(\"Predicted answer is: \", k)\n",
        "print(\"Probability of certainty was: \", pred_results[0][val_max])"
      ],
      "metadata": {
        "colab": {
          "base_uri": "https://localhost:8080/"
        },
        "id": "yTjOvovzDcaO",
        "outputId": "0fcedc94-ffa7-4af4-ad44-aca7a472f31d"
      },
      "execution_count": 69,
      "outputs": [
        {
          "output_type": "stream",
          "name": "stdout",
          "text": [
            "Predicted answer is:  no\n",
            "Probability of certainty was:  0.99999106\n"
          ]
        }
      ]
    },
    {
      "cell_type": "markdown",
      "source": [
        "##Writing our Own Stories and Questions\n",
        "Remember we can only use words from the existing vocab"
      ],
      "metadata": {
        "id": "Hx4nNkg1Do8Z"
      }
    },
    {
      "cell_type": "code",
      "source": [
        "vocab\n"
      ],
      "metadata": {
        "id": "HLOAJX4XDkeB",
        "colab": {
          "base_uri": "https://localhost:8080/"
        },
        "outputId": "6d3383a8-ad90-41a9-bc22-ff8e38f2de8d"
      },
      "execution_count": 70,
      "outputs": [
        {
          "output_type": "execute_result",
          "data": {
            "text/plain": [
              "{'.',\n",
              " '?',\n",
              " 'Daniel',\n",
              " 'Is',\n",
              " 'John',\n",
              " 'Mary',\n",
              " 'Sandra',\n",
              " 'apple',\n",
              " 'back',\n",
              " 'bathroom',\n",
              " 'bedroom',\n",
              " 'discarded',\n",
              " 'down',\n",
              " 'dropped',\n",
              " 'football',\n",
              " 'garden',\n",
              " 'got',\n",
              " 'grabbed',\n",
              " 'hallway',\n",
              " 'in',\n",
              " 'journeyed',\n",
              " 'kitchen',\n",
              " 'left',\n",
              " 'milk',\n",
              " 'moved',\n",
              " 'no',\n",
              " 'office',\n",
              " 'picked',\n",
              " 'put',\n",
              " 'the',\n",
              " 'there',\n",
              " 'to',\n",
              " 'took',\n",
              " 'travelled',\n",
              " 'up',\n",
              " 'went',\n",
              " 'yes'}"
            ]
          },
          "metadata": {},
          "execution_count": 70
        }
      ]
    },
    {
      "cell_type": "code",
      "source": [
        "# Note the whitespace of the periods\n",
        "my_story = \"John left the kitchen . Sandra dropped the football in the garden .\"\n",
        "my_story.split()"
      ],
      "metadata": {
        "colab": {
          "base_uri": "https://localhost:8080/"
        },
        "id": "iju5KzdzDxnx",
        "outputId": "74d62b4b-ecf0-4c84-8cd3-c925f6489c8a"
      },
      "execution_count": 71,
      "outputs": [
        {
          "output_type": "execute_result",
          "data": {
            "text/plain": [
              "['John',\n",
              " 'left',\n",
              " 'the',\n",
              " 'kitchen',\n",
              " '.',\n",
              " 'Sandra',\n",
              " 'dropped',\n",
              " 'the',\n",
              " 'football',\n",
              " 'in',\n",
              " 'the',\n",
              " 'garden',\n",
              " '.']"
            ]
          },
          "metadata": {},
          "execution_count": 71
        }
      ]
    },
    {
      "cell_type": "code",
      "source": [
        "my_question = \"Is the football in the garden ?\""
      ],
      "metadata": {
        "id": "6g_6HMkrD1Y1"
      },
      "execution_count": 72,
      "outputs": []
    },
    {
      "cell_type": "code",
      "source": [
        "my_question.split()"
      ],
      "metadata": {
        "colab": {
          "base_uri": "https://localhost:8080/"
        },
        "id": "p0K3mMs7D2-_",
        "outputId": "eced9f89-501d-4f0f-a126-9da9bbc9cf3c"
      },
      "execution_count": 73,
      "outputs": [
        {
          "output_type": "execute_result",
          "data": {
            "text/plain": [
              "['Is', 'the', 'football', 'in', 'the', 'garden', '?']"
            ]
          },
          "metadata": {},
          "execution_count": 73
        }
      ]
    },
    {
      "cell_type": "code",
      "source": [
        "mydata = [(my_story.split(),my_question.split(),'yes')]"
      ],
      "metadata": {
        "id": "ra2MYNzyD29O"
      },
      "execution_count": 74,
      "outputs": []
    },
    {
      "cell_type": "code",
      "source": [
        "my_story,my_ques,my_ans = vectorize_stories(mydata)"
      ],
      "metadata": {
        "id": "8QClCYkID268"
      },
      "execution_count": 75,
      "outputs": []
    },
    {
      "cell_type": "code",
      "source": [
        "pred_results = model.predict(([ my_story, my_ques]))"
      ],
      "metadata": {
        "id": "gFmOPZ4MD24V"
      },
      "execution_count": 76,
      "outputs": []
    },
    {
      "cell_type": "code",
      "source": [
        "#Generate prediction from model\n",
        "val_max = np.argmax(pred_results[0])\n",
        "\n",
        "for key, val in tokenizer.word_index.items():\n",
        "    if val == val_max:\n",
        "        k = key\n",
        "\n",
        "print(\"Predicted answer is: \", k)\n",
        "print(\"Probability of certainty was: \", pred_results[0][val_max])"
      ],
      "metadata": {
        "colab": {
          "base_uri": "https://localhost:8080/"
        },
        "id": "S1IXEPVPD76F",
        "outputId": "18346916-18e3-4660-c18a-03c947e83d01"
      },
      "execution_count": 77,
      "outputs": [
        {
          "output_type": "stream",
          "name": "stdout",
          "text": [
            "Predicted answer is:  yes\n",
            "Probability of certainty was:  0.9932474\n"
          ]
        }
      ]
    }
  ]
}